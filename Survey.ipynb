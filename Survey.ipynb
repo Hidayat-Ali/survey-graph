{
  "nbformat": 4,
  "nbformat_minor": 0,
  "metadata": {
    "colab": {
      "provenance": [],
      "collapsed_sections": [],
      "authorship_tag": "ABX9TyNweNqc3yI/yRvuQxQ0Y4Ak",
      "include_colab_link": true
    },
    "kernelspec": {
      "name": "python3",
      "display_name": "Python 3"
    },
    "language_info": {
      "name": "python"
    }
  },
  "cells": [
    {
      "cell_type": "markdown",
      "metadata": {
        "id": "view-in-github",
        "colab_type": "text"
      },
      "source": [
        "<a href=\"https://colab.research.google.com/github/Hidayat-Ali/survey-graph/blob/master/Survey.ipynb\" target=\"_parent\"><img src=\"https://colab.research.google.com/assets/colab-badge.svg\" alt=\"Open In Colab\"/></a>"
      ]
    },
    {
      "cell_type": "markdown",
      "source": [
        "#<font color = \"red\">hello this just the begining<font/>\n",
        "We are going to see the use of matplotlib here in the program"
      ],
      "metadata": {
        "id": "9bFbN47tAQw_"
      }
    },
    {
      "cell_type": "code",
      "execution_count": null,
      "metadata": {
        "colab": {
          "base_uri": "https://localhost:8080/"
        },
        "id": "LwolB1zT-k92",
        "outputId": "1b47051b-cf72-46e1-93c6-a2b3c34bed24"
      },
      "outputs": [
        {
          "output_type": "stream",
          "name": "stdout",
          "text": [
            "3.2.2\n"
          ]
        }
      ],
      "source": [
        "#here i want to use matplotlib so lets get started\n",
        "import matplotlib as mt\n",
        "#lets check its version\n",
        "print(mt.__version__)"
      ]
    },
    {
      "cell_type": "code",
      "source": [
        "#so we came to know the matplotlib is of 3.2.2 version\n",
        "# so matplotlib has pyplot which is its submodule whhich is most of times used to draw the graphs\n",
        "#lets import then it with numpy also\n",
        "import matplotlib.pyplot as plt\n",
        "import numpy as np\n",
        "plt.title(\"ITEMS SURVEY\")\n",
        "xpoints = np.array([\"Apple\",\"banana\",\"carrot\",\"cucember\"])\n",
        "ypoints = np.array([400,300,500,50])\n",
        "plt.plot(xpoints,ypoints, linestyle= \"dotted\") \n",
        "\n",
        "#this is when want to show to dotted line graph the default value will be nothing but a solid line\n",
        "plt.ylabel(\"no of people sold !\")\n",
        "plt.xlabel(\"name of items !\")\n",
        "plt.show()\n",
        "\n",
        "\n",
        "plt.bar(xpoints,ypoints)\n",
        "plt.title(\"SAME SURVEY USING BAR GRAPH\")\n",
        "plt.xlabel(\"Name of the items\")\n",
        "plt.ylabel(\"No of people sold the particular items\")\n",
        "plt.show()\n",
        "\n"
      ],
      "metadata": {
        "colab": {
          "base_uri": "https://localhost:8080/",
          "height": 573
        },
        "id": "DaNjzKyvOHMQ",
        "outputId": "9d280bb8-e4cd-4b19-c7da-1219b1a8832e"
      },
      "execution_count": null,
      "outputs": [
        {
          "output_type": "display_data",
          "data": {
            "text/plain": [
              "<Figure size 432x288 with 1 Axes>"
            ],
            "image/png": "[encoded data removed]"
          },
          "metadata": {
            "needs_background": "light"
          }
        },
        {
          "output_type": "display_data",
          "data": {
            "text/plain": [
              "<Figure size 432x288 with 1 Axes>"
            ],
            "image/png": "[encoded data removed]"
          },
          "metadata": {
            "needs_background": "light"
          }
        }
      ]
    },
    {
      "cell_type": "code",
      "source": [
        "#lets check the dimensiions of array\n",
        "import numpy as np\n",
        "a = np.array(90)\n",
        "print(a.ndim)"
      ],
      "metadata": {
        "colab": {
          "base_uri": "https://localhost:8080/"
        },
        "id": "aIUKlzMjIAv3",
        "outputId": "17ba3136-72af-49e6-bb1e-7ecbb62f806c"
      },
      "execution_count": 3,
      "outputs": [
        {
          "output_type": "stream",
          "name": "stdout",
          "text": [
            "0\n"
          ]
        }
      ]
    },
    {
      "cell_type": "code",
      "source": [
        "\n",
        "arr = np.array([1, 2, 3, 4], ndmin=6)\n",
        "\n",
        "print(arr)\n",
        "print('number of dimensions :', arr.ndim)\n"
      ],
      "metadata": {
        "colab": {
          "base_uri": "https://localhost:8080/"
        },
        "id": "Q0cqhMzMJxL6",
        "outputId": "5dfcbde8-568a-4beb-94b6-50cfd94ca433"
      },
      "execution_count": 13,
      "outputs": [
        {
          "output_type": "stream",
          "name": "stdout",
          "text": [
            "[[[[[[1 2 3 4]]]]]]\n",
            "number of dimensions : 6\n"
          ]
        }
      ]
    },
    {
      "cell_type": "code",
      "source": [
        "array1 = np.array([1,2,3,4,5,6,7,67,8,8])\n",
        "print(array1[7])"
      ],
      "metadata": {
        "colab": {
          "base_uri": "https://localhost:8080/"
        },
        "id": "Yzn5CHKxKgJu",
        "outputId": "bebc1cbb-380c-42c1-ecbb-e5c1cc32615d"
      },
      "execution_count": 17,
      "outputs": [
        {
          "output_type": "stream",
          "name": "stdout",
          "text": [
            "67\n"
          ]
        }
      ]
    },
    {
      "cell_type": "code",
      "source": [
        "#lets see slicing of array in numpy \n",
        "array2 = np.array([1,2,3,4,56,6])\n",
        "print(array2[1:6])"
      ],
      "metadata": {
        "colab": {
          "base_uri": "https://localhost:8080/"
        },
        "id": "n8N5qu3OKhTK",
        "outputId": "9d526bbc-8609-414c-9df0-07a03285e18d"
      },
      "execution_count": 25,
      "outputs": [
        {
          "output_type": "stream",
          "name": "stdout",
          "text": [
            "[ 2  3  4 56  6]\n"
          ]
        }
      ]
    },
    {
      "cell_type": "code",
      "source": [
        "anArray = np.array([[[1, 2, 3], [4, 5, 6]], [[1, 2, 3], [4, 5, 6]]])\n",
        "print(anArray.ndim)"
      ],
      "metadata": {
        "colab": {
          "base_uri": "https://localhost:8080/"
        },
        "id": "lSVCiWICIn2D",
        "outputId": "5105ba23-13b3-40e1-f518-4e9094c12d28"
      },
      "execution_count": 11,
      "outputs": [
        {
          "output_type": "stream",
          "name": "stdout",
          "text": [
            "3\n"
          ]
        }
      ]
    },
    {
      "cell_type": "code",
      "source": [
        "#lets see the diffrence between copy and view\n",
        "## here we can see that the orginal array is not getting affected !\n",
        "arrayA = np.array([1,2,4,5,6,6])\n",
        "newarr = np.copy(arrayA)\n",
        "arrayA[1] = 22\n",
        "print(arrayA)\n",
        "print(newarr) "
      ],
      "metadata": {
        "colab": {
          "base_uri": "https://localhost:8080/"
        },
        "id": "IhKf4wnBQi-f",
        "outputId": "4f9e8d7d-4509-45ba-8116-3f5784473324"
      },
      "execution_count": 31,
      "outputs": [
        {
          "output_type": "stream",
          "name": "stdout",
          "text": [
            "[ 1 22  4  5  6  6]\n",
            "[1 2 4 5 6 6]\n"
          ]
        }
      ]
    },
    {
      "cell_type": "code",
      "source": [
        "#and lets see the difference between now copy and view\n",
        "#so lets get started guys\n",
        "#let me create one array where i am gonna get its view so lets see in practical\n",
        "newarr1 = np.array([1,34,5,5,6,67])\n",
        "x = np.array(newarr1)\n",
        "print(x)\n",
        "newarr1[1] = 44\n",
        "print(newarr1)\n"
      ],
      "metadata": {
        "colab": {
          "base_uri": "https://localhost:8080/"
        },
        "id": "m-LDwbnwRo3B",
        "outputId": "a369a21c-69bf-44b6-8c1d-7fb3d14d0e5a"
      },
      "execution_count": 30,
      "outputs": [
        {
          "output_type": "stream",
          "name": "stdout",
          "text": [
            "[ 1 34  5  5  6 67]\n",
            "[ 1 44  5  5  6 67]\n"
          ]
        }
      ]
    },
    {
      "cell_type": "markdown",
      "source": [
        "#<font color = \"red\"> we came to know here how can  we actually iterate via any complex array </font> using nditer\n"
      ],
      "metadata": {
        "id": "vsiMTCo-Y_eo"
      }
    },
    {
      "cell_type": "code",
      "source": [
        "#lets see how do we iterate in array in numpy module \n",
        "# so lets get started ,guys be ready\n",
        "arraylast = np.array([[[1, 2, 3], [4, 5, 6]], [[7, 8, 9], [10, 11, 12]]])\n",
        "\n",
        "for x in np.nditer(arraylast):\n",
        "  print(x)\n",
        "\n"
      ],
      "metadata": {
        "colab": {
          "base_uri": "https://localhost:8080/"
        },
        "id": "Uk1CywrcVXC2",
        "outputId": "c9b3fbec-a80c-4f68-8669-2a7b0a0fd6fc"
      },
      "execution_count": 42,
      "outputs": [
        {
          "output_type": "stream",
          "name": "stdout",
          "text": [
            "1\n",
            "2\n",
            "3\n",
            "4\n",
            "5\n",
            "6\n",
            "7\n",
            "8\n",
            "9\n",
            "10\n",
            "11\n",
            "12\n"
          ]
        }
      ]
    }
  ]
}